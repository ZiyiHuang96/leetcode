{
 "cells": [
  {
   "cell_type": "code",
   "execution_count": 6,
   "metadata": {},
   "outputs": [
    {
     "data": {
      "text/plain": [
       "[[1, 3], [8, 10], [15, 18]]"
      ]
     },
     "execution_count": 6,
     "metadata": {},
     "output_type": "execute_result"
    }
   ],
   "source": [
    "# building with ocean view\n",
    "# 寻找tree中两个节点的最小公共祖先\n",
    "# 1762\n",
    "# 616\n",
    "# 938\n",
    "# 207\n",
    "# 973\n",
    "# 157\n",
    "# 415\n",
    "# https://leetcode.com/problems/add-strings/discuss/671682/follow-up-add-number-with-decimals\n",
    "# https://www.geeksforgeeks.org/nearly-sorted-algorithm/\n",
    "# find peak element\n",
    "# 560\n",
    "# 88\n",
    "# 50\n",
    "# 65\n",
    "# 1650\n",
    "# 1249\n",
    "# 173\n",
    "# 215\n",
    "# 199\n",
    "# 200\n",
    "# 827\n",
    "# 第一个题目很简单，给一个list of string 代表一个数字，然后返回加一之后的数字，比如[\"1\", \"2\", \"3\"], 返回[\"1\", \"2\", \"4\"]\n",
    "# 636\n",
    "# 199\n",
    "# 76\n",
    "# 973\n",
    "# 426\n",
    "# 380\n",
    "# 208\n",
    "# 42\n",
    "# 4\n",
    "# BST找median  follow up 时空复杂度以及code能不能优化\n",
    "# 443\n",
    "# 1868\n",
    "# 1209\n",
    "# k sorted array\n",
    "# 24\n",
    "# 一轮：\n",
    "# 1.  number of occurrences of a given number in a sorted list. input: [10, 10, 20, 20, 20, 30, 40], n = 20, output: 3。要求O(logn)\n",
    "# 2. number of deletions to reach valid parentheses。input: \"(()))(\", output: 2. 这么简单的题我最后没时间了居然没做对，重大失误。但面试官也没说我做错了，很神奇，明明错的很离谱。\n",
    "# 二轮：\n",
    "# 1. next permutation (这个一定要会，我两个面试官都给了这道，跟第二个说了换了题目)\n",
    "# 680\n",
    "# 三轮：\n",
    "# 1. Given a list of city names and populations, generate a random city based on its population weight. input:[(NY, 5),(BOS, 3),(PHL, 2)], output NY with possibility 1/2, BOS with possibility 3/10, PHL ‍‍‌‌‌‍‌‌‍‌‌‍‌‌‍‍‌‍‍‍with possibility 1/5. follow up 要求加快。\n",
    "# 2. Given a string, output string with valid parentheses.\n",
    "# 314\n",
    "# 71\n",
    "# 1. Check if characters of a given string can be rearranged to form a palindrome （没啥好说的）\n",
    "# 2. 类似于Merge K sorted arrays‍‍‌‌‌‍‌‌‍‌‌‍‌‌‍‍‌‍‍‍的Iteroator 的 interface，写了 constructor, int next(), bool hasNext();\n",
    "# 270\n",
    "# 63的题面，问题是最短路径，follow up 给一定数量的key可以翻阅障碍物\n",
    "# 1036\n",
    "# Basic Calculator II 和 Binary Tree Vertical Order Traversal\n",
    "# 71\n",
    "# 523\n",
    "# 49\n",
    "# 862\n",
    "# 88\n",
    "# 133\n",
    "# 42\n",
    "# 71\n",
    "# 314\n",
    "# 384\n",
    "# 921\n",
    "# 523\n",
    "# 找lowest common ancestor\n",
    "# 括号字符串的validation\n",
    "# 98\n",
    "\n",
    "\n",
    "\n",
    "# 56. Merge Intervals\n",
    "def merge(intervals):\n",
    "    if not intervals:\n",
    "        return []\n",
    "    sortedIntervals = sorted(intervals, key=lambda x:x[0])\n",
    "    res = [sortedIntervals[0]]\n",
    "    for cur in sortedIntervals[1:]:\n",
    "        if cur[0] <= res[-1][1]:\n",
    "            res[-1][1] == max(cur[1], res[-1][1])\n",
    "        else:\n",
    "            res.append(cur)\n",
    "    return res\n",
    "intervals = [[1,3],[2,6],[8,10],[15,18]]\n",
    "merge(intervals)"
   ]
  },
  {
   "cell_type": "code",
   "execution_count": null,
   "metadata": {},
   "outputs": [],
   "source": [
    "# 42. Trapping Rain Water\n",
    "def trap(height):\n",
    "    "
   ]
  }
 ],
 "metadata": {
  "kernelspec": {
   "display_name": "Python 3",
   "language": "python",
   "name": "python3"
  },
  "language_info": {
   "codemirror_mode": {
    "name": "ipython",
    "version": 3
   },
   "file_extension": ".py",
   "mimetype": "text/x-python",
   "name": "python",
   "nbconvert_exporter": "python",
   "pygments_lexer": "ipython3",
   "version": "3.8.5"
  }
 },
 "nbformat": 4,
 "nbformat_minor": 4
}
