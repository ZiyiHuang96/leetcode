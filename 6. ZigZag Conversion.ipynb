{
 "cells": [
  {
   "cell_type": "code",
   "execution_count": 15,
   "metadata": {},
   "outputs": [],
   "source": [
    "def convert(s, numRows):\n",
    "    if numRows == 1 or numRows >= len(s):\n",
    "        return s\n",
    "    index, step = 0, 1\n",
    "    res = [\"\"] * numRows\n",
    "    for c in s:\n",
    "        res[index] += c\n",
    "        if index == 0:\n",
    "            step = 1\n",
    "        if index == numRows - 1:\n",
    "            step = -1\n",
    "        index += step\n",
    "    return res"
   ]
  },
  {
   "cell_type": "code",
   "execution_count": 16,
   "metadata": {},
   "outputs": [
    {
     "data": {
      "text/plain": [
       "['PAHN', 'APLSIIG', 'YIR']"
      ]
     },
     "execution_count": 16,
     "metadata": {},
     "output_type": "execute_result"
    }
   ],
   "source": [
    "convert(\"PAYPALISHIRING\", 3)"
   ]
  }
 ],
 "metadata": {
  "kernelspec": {
   "display_name": "Python 3",
   "language": "python",
   "name": "python3"
  },
  "language_info": {
   "codemirror_mode": {
    "name": "ipython",
    "version": 3
   },
   "file_extension": ".py",
   "mimetype": "text/x-python",
   "name": "python",
   "nbconvert_exporter": "python",
   "pygments_lexer": "ipython3",
   "version": "3.8.5"
  }
 },
 "nbformat": 4,
 "nbformat_minor": 4
}
