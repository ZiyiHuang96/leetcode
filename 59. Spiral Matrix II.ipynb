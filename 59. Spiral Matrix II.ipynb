{
 "cells": [
  {
   "cell_type": "code",
   "execution_count": 21,
   "metadata": {},
   "outputs": [],
   "source": [
    "def generateMatrix(n: int):\n",
    "    coord = [[(i, j) for j in range(n)] for i in range(n)]\n",
    "    matrix = [[0 for j in range(n)] for i in range(n)]\n",
    "    num = 0\n",
    "    while coord:\n",
    "        for i, j in coord.pop(0):\n",
    "            matrix[i][j] = num\n",
    "            num += 1\n",
    "        coord = [*zip(*coord)][::-1]\n",
    "    return matrix"
   ]
  },
  {
   "cell_type": "code",
   "execution_count": 22,
   "metadata": {},
   "outputs": [
    {
     "data": {
      "text/plain": [
       "[[0, 1, 2], [7, 8, 3], [6, 5, 4]]"
      ]
     },
     "execution_count": 22,
     "metadata": {},
     "output_type": "execute_result"
    }
   ],
   "source": [
    "generateMatrix(3)"
   ]
  },
  {
   "cell_type": "code",
   "execution_count": 2,
   "metadata": {},
   "outputs": [
    {
     "name": "stdout",
     "output_type": "stream",
     "text": [
      "[[(1, 0), (1, 1), (1, 2)], [(2, 0), (2, 1), (2, 2)]]\n",
      "[([(1, 0), (1, 1), (1, 2)],), ([(2, 0), (2, 1), (2, 2)],)]\n",
      "[((1, 2), (2, 2)), ((1, 1), (2, 1)), ((1, 0), (2, 0))]\n"
     ]
    }
   ],
   "source": [
    "coord = [[(1, 0), (1, 1), (1, 2)], [(2, 0), (2, 1), (2, 2)]]\n",
    "print(coord)\n",
    "print([*zip(*coord)][::-1])"
   ]
  },
  {
   "cell_type": "code",
   "execution_count": 6,
   "metadata": {},
   "outputs": [
    {
     "name": "stdout",
     "output_type": "stream",
     "text": [
      "[[1, 2, 3], [4, 5, 6], [7, 8], [9], [0]]\n",
      "([1, 2, 3], [4, 5, 6]) ([4, 5, 6], [7, 8]) ([7, 8], [9]) ([9], [0])\n"
     ]
    }
   ],
   "source": [
    "test = [[1,2,3],[4,5,6],[7,8],[9],[0]]\n",
    "print(test)\n",
    "print(*zip(test, test[1:]))"
   ]
  },
  {
   "cell_type": "code",
   "execution_count": null,
   "metadata": {},
   "outputs": [],
   "source": []
  }
 ],
 "metadata": {
  "kernelspec": {
   "display_name": "Python 3",
   "language": "python",
   "name": "python3"
  },
  "language_info": {
   "codemirror_mode": {
    "name": "ipython",
    "version": 3
   },
   "file_extension": ".py",
   "mimetype": "text/x-python",
   "name": "python",
   "nbconvert_exporter": "python",
   "pygments_lexer": "ipython3",
   "version": "3.8.5"
  }
 },
 "nbformat": 4,
 "nbformat_minor": 4
}
