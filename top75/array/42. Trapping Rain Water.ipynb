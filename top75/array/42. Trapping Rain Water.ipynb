{
 "cells": [
  {
   "cell_type": "code",
   "execution_count": 1,
   "metadata": {},
   "outputs": [],
   "source": [
    "def trap(height):\n",
    "    if len(height) < 2:\n",
    "        return 0\n",
    "    res = 0\n",
    "    i, j = 0, len(height) - 1\n",
    "    lmax = 0\n",
    "    rmax = 0\n",
    "    while i <= j:\n",
    "        if height[i] < height[j]:\n",
    "            if height[i] >= lmax:\n",
    "                lmax = height[i]\n",
    "            else:\n",
    "                res += lmax - height[i]\n",
    "            i += 1\n",
    "        else:\n",
    "            if height[j] >= rmax:\n",
    "                rmax = height[j]\n",
    "            else:\n",
    "                res += rmax - height[j]\n",
    "            j -= 1\n",
    "    return res"
   ]
  },
  {
   "cell_type": "code",
   "execution_count": 2,
   "metadata": {},
   "outputs": [
    {
     "data": {
      "text/plain": [
       "6"
      ]
     },
     "execution_count": 2,
     "metadata": {},
     "output_type": "execute_result"
    }
   ],
   "source": [
    "height = [0,1,0,2,1,0,1,3,2,1,2,1]\n",
    "trap(height)"
   ]
  },
  {
   "cell_type": "code",
   "execution_count": null,
   "metadata": {},
   "outputs": [],
   "source": []
  }
 ],
 "metadata": {
  "kernelspec": {
   "display_name": "Python 3",
   "language": "python",
   "name": "python3"
  },
  "language_info": {
   "codemirror_mode": {
    "name": "ipython",
    "version": 3
   },
   "file_extension": ".py",
   "mimetype": "text/x-python",
   "name": "python",
   "nbconvert_exporter": "python",
   "pygments_lexer": "ipython3",
   "version": "3.8.5"
  }
 },
 "nbformat": 4,
 "nbformat_minor": 4
}
