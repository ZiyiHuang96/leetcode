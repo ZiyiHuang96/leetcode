{
 "cells": [
  {
   "cell_type": "code",
   "execution_count": 26,
   "metadata": {},
   "outputs": [],
   "source": [
    "def threeSum(nums):\n",
    "    res = []\n",
    "    nums.sort()\n",
    "    for left in range(len(nums) - 2):\n",
    "        if left > 0 and nums[left] == nums[left - 1]:\n",
    "            continue\n",
    "        mid = left + 1\n",
    "        right = len(nums) - 1\n",
    "        while mid < right:\n",
    "            total = nums[left] + nums[mid] + nums[right]\n",
    "            if total < 0:\n",
    "                mid += 1\n",
    "            elif total > 0:\n",
    "                right -= 1\n",
    "            else:\n",
    "                res.append((nums[left],  nums[mid], nums[right]))\n",
    "                while mid < right and nums[mid] == nums[mid + 1]:\n",
    "                    mid += 1\n",
    "                while mid < right and nums[right] == nums[right - 1]:\n",
    "                    right -= 1\n",
    "                mid += 1\n",
    "                right -= 1\n",
    "    return res"
   ]
  },
  {
   "cell_type": "code",
   "execution_count": 27,
   "metadata": {},
   "outputs": [
    {
     "data": {
      "text/plain": [
       "[(-7, 0, 7), (-7, 1, 6), (-7, 2, 5), (-7, 3, 4)]"
      ]
     },
     "execution_count": 27,
     "metadata": {},
     "output_type": "execute_result"
    }
   ],
   "source": [
    "threeSum([0,1,2,2,2,3,4,5,6,7,-7])"
   ]
  },
  {
   "cell_type": "code",
   "execution_count": null,
   "metadata": {},
   "outputs": [],
   "source": []
  }
 ],
 "metadata": {
  "kernelspec": {
   "display_name": "Python 3",
   "language": "python",
   "name": "python3"
  },
  "language_info": {
   "codemirror_mode": {
    "name": "ipython",
    "version": 3
   },
   "file_extension": ".py",
   "mimetype": "text/x-python",
   "name": "python",
   "nbconvert_exporter": "python",
   "pygments_lexer": "ipython3",
   "version": "3.8.5"
  }
 },
 "nbformat": 4,
 "nbformat_minor": 4
}
