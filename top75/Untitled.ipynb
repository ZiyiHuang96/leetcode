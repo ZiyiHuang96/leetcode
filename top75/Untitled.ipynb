{
 "cells": [
  {
   "cell_type": "code",
   "execution_count": 39,
   "metadata": {},
   "outputs": [
    {
     "name": "stdout",
     "output_type": "stream",
     "text": [
      "3 6\n",
      "BBBBBB\n",
      "BRBBBB\n",
      "BBBBBB\n",
      "2\n",
      "old: 1 1\n",
      "Turn left\n",
      "Forward 2\n",
      "[['B', 'B', 'B', 'B', 'B', 'B'], ['R', 'B', 'B', 'B', 'B', 'B'], ['B', 'B', 'B', 'B', 'B', 'B']]\n",
      "new (1, 0)\n",
      "0 1\n"
     ]
    }
   ],
   "source": [
    "def find(element, matrix):\n",
    "    for i in range(len(matrix)):\n",
    "        for j in range(len(matrix[i])):\n",
    "            if matrix[i][j] == element:\n",
    "                return (i, j)\n",
    "val = input()\n",
    "val = val.split()\n",
    "row, column = int(val[0]), int(val[1])\n",
    "matrix = [['B' for column in range(column)] for row in range(row)]\n",
    "for i in range(row):\n",
    "    val = input()\n",
    "    for j in range(column):\n",
    "        matrix[i][j] = val[j]\n",
    "num = input()\n",
    "num = int(num)\n",
    "direction = {}\n",
    "direction['d'] = 'up'\n",
    "robot = find('R', matrix)\n",
    "old_r, old_c = robot[0], robot[1]\n",
    "print(\"old:\",old_r, old_c)\n",
    "for i in range(num):\n",
    "    command = input()\n",
    "    command = command.split()\n",
    "    first, second = command[0], command[0]\n",
    "    if command[0] == 'Turn':\n",
    "        if command[1] == 'right':\n",
    "            direction['d'] = 'right'\n",
    "        if command[1] == 'left':\n",
    "            direction['d'] = 'left'\n",
    "    if command[0] == 'Forward':\n",
    "        steps = command[1]\n",
    "        r, c = robot[0], robot[1]\n",
    "        for i in range(int(steps)):\n",
    "            if direction['d'] == 'up':\n",
    "                if r - i >= 0:\n",
    "                    if matrix[r-1][c] != 'O':\n",
    "                        matrix[r][c] = 'B'\n",
    "                        matrix[r-1][c] = 'R'\n",
    "            if direction['d'] == 'right':\n",
    "                if c + i < column:\n",
    "                    if matrix[r][c+1] != 'O':\n",
    "                        matrix[r][c] = 'B'\n",
    "                        matrix[r][c+1] = 'R'\n",
    "            if direction['d'] == 'left':\n",
    "                if c - i >= 0:\n",
    "                    if matrix[r][c-1] != 'O':\n",
    "                        matrix[r][c] = 'B'\n",
    "                        matrix[r][c-1] = 'R'\n",
    "print(matrix)\n",
    "robot = find('R', matrix)\n",
    "print(\"new\", robot)\n",
    "print(old_r - robot[0], old_c - robot[1])\n",
    "    "
   ]
  },
  {
   "cell_type": "code",
   "execution_count": null,
   "metadata": {},
   "outputs": [],
   "source": []
  },
  {
   "cell_type": "code",
   "execution_count": null,
   "metadata": {},
   "outputs": [],
   "source": []
  }
 ],
 "metadata": {
  "kernelspec": {
   "display_name": "Python 3",
   "language": "python",
   "name": "python3"
  },
  "language_info": {
   "codemirror_mode": {
    "name": "ipython",
    "version": 3
   },
   "file_extension": ".py",
   "mimetype": "text/x-python",
   "name": "python",
   "nbconvert_exporter": "python",
   "pygments_lexer": "ipython3",
   "version": "3.8.5"
  }
 },
 "nbformat": 4,
 "nbformat_minor": 4
}
