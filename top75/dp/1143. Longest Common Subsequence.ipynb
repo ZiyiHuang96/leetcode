{
 "cells": [
  {
   "cell_type": "code",
   "execution_count": 4,
   "metadata": {},
   "outputs": [],
   "source": [
    "class Solution:\n",
    "    def longestCommonSubsequence(self, s1: str, s2: str) -> int:\n",
    "        m = len(s1)\n",
    "        n = len(s2)\n",
    "        memo = [[0 for _ in range(n + 1)] for _ in range(m + 1)]\n",
    "\n",
    "        for row in range(1, m + 1):\n",
    "            for col in range(1, n + 1):\n",
    "                if s1[row - 1] == s2[col - 1]:\n",
    "                    memo[row][col] = 1 + memo[row - 1][col - 1]\n",
    "                else:\n",
    "                    memo[row][col] = max(memo[row][col - 1], memo[row - 1][col])\n",
    "\n",
    "        return memo[m][n]"
   ]
  },
  {
   "cell_type": "code",
   "execution_count": 5,
   "metadata": {},
   "outputs": [
    {
     "data": {
      "text/plain": [
       "1"
      ]
     },
     "execution_count": 5,
     "metadata": {},
     "output_type": "execute_result"
    }
   ],
   "source": [
    "sol = Solution()\n",
    "sol.longestCommonSubsequence(\"111\", \"123\")"
   ]
  }
 ],
 "metadata": {
  "kernelspec": {
   "display_name": "Python 3",
   "language": "python",
   "name": "python3"
  },
  "language_info": {
   "codemirror_mode": {
    "name": "ipython",
    "version": 3
   },
   "file_extension": ".py",
   "mimetype": "text/x-python",
   "name": "python",
   "nbconvert_exporter": "python",
   "pygments_lexer": "ipython3",
   "version": "3.8.5"
  }
 },
 "nbformat": 4,
 "nbformat_minor": 4
}
