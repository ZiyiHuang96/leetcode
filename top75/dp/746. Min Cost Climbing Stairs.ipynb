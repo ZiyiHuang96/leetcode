{
 "cells": [
  {
   "cell_type": "code",
   "execution_count": null,
   "metadata": {},
   "outputs": [],
   "source": [
    "class Solution:\n",
    "    def minCostClimbingStairs(self, cost: List[int]) -> int:\n",
    "        if not cost:\n",
    "            return 0\n",
    "        dp = [0] * len(cost)\n",
    "        dp[0] = cost[0]\n",
    "        if len(cost) >= 2:\n",
    "            dp[1] = cost[1]\n",
    "        for i in range(2, len(cost)):\n",
    "            dp[i] = cost[i] + min(dp[i-1], dp[i-2])\n",
    "        return min(dp[-1], dp[-2])"
   ]
  }
 ],
 "metadata": {
  "kernelspec": {
   "display_name": "Python 3",
   "language": "python",
   "name": "python3"
  },
  "language_info": {
   "codemirror_mode": {
    "name": "ipython",
    "version": 3
   },
   "file_extension": ".py",
   "mimetype": "text/x-python",
   "name": "python",
   "nbconvert_exporter": "python",
   "pygments_lexer": "ipython3",
   "version": "3.8.5"
  }
 },
 "nbformat": 4,
 "nbformat_minor": 4
}
