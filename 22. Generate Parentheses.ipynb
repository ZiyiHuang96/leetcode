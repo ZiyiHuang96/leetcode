{
 "cells": [
  {
   "cell_type": "code",
   "execution_count": 5,
   "metadata": {},
   "outputs": [],
   "source": [
    "def generateParenthesis(n):\n",
    "    res = []\n",
    "    dfs(n, n, \"\", res)\n",
    "    return res\n",
    "\n",
    "def dfs(l, r, s, res):\n",
    "    if r < l:\n",
    "        return\n",
    "    if not l and not r:\n",
    "        res.append(s)\n",
    "        return res\n",
    "    if l:\n",
    "        dfs(l-1, r, s+\"(\", res)\n",
    "    if r:\n",
    "        dfs(l, r-1, s+\")\", res)"
   ]
  },
  {
   "cell_type": "code",
   "execution_count": 6,
   "metadata": {},
   "outputs": [
    {
     "data": {
      "text/plain": [
       "['((()))', '(()())', '(())()', '()(())', '()()()']"
      ]
     },
     "execution_count": 6,
     "metadata": {},
     "output_type": "execute_result"
    }
   ],
   "source": [
    "generateParenthesis(3)"
   ]
  },
  {
   "cell_type": "code",
   "execution_count": null,
   "metadata": {},
   "outputs": [],
   "source": [
    "# dfs(2, 2, [], \"\")\n",
    "#         dfs(1, 2, [], \"(\")\n",
    "#                 dfs(0, 2, [], \"((\")\n",
    "#                         dfs(0, 1, [], \"(()\")\n",
    "#                                 dfs(0, 0, [], \"(())\") # We got \"(())\" and we append it to ans\n",
    "#                 dfs(1, 1, [\"(())\"], \"()\")\n",
    "#                         dfs(0, 1, [\"(())\"], \"()(\")\n",
    "#                                 dfs(0, 0, [\"(())\"], \"()()\") # We got \"(())\" and we append it to ans\n",
    "#                         dfs(1, 0, [\"(())\", \"()()\"], \"())\") # will just return as right < left\n",
    "#         dfs(2, 1, [\"(())\", \"()()\"], \")\") # will just return as right < left"
   ]
  }
 ],
 "metadata": {
  "kernelspec": {
   "display_name": "Python 3",
   "language": "python",
   "name": "python3"
  },
  "language_info": {
   "codemirror_mode": {
    "name": "ipython",
    "version": 3
   },
   "file_extension": ".py",
   "mimetype": "text/x-python",
   "name": "python",
   "nbconvert_exporter": "python",
   "pygments_lexer": "ipython3",
   "version": "3.8.5"
  }
 },
 "nbformat": 4,
 "nbformat_minor": 4
}
