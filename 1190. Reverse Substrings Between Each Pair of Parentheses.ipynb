{
 "cells": [
  {
   "cell_type": "code",
   "execution_count": null,
   "metadata": {},
   "outputs": [],
   "source": [
    "def reverseParentheses(self, s: str) -> str:\n",
    "    stack = [\"\"]\n",
    "    for c in s:\n",
    "        if c == \"(\":\n",
    "            stack.append(\"\")\n",
    "        elif c == \")\":\n",
    "            add = stack.pop()[::-1]\n",
    "            stack[-1] += add\n",
    "        else:\n",
    "            stack[-1] += c\n",
    "    return stack.pop()"
   ]
  }
 ],
 "metadata": {
  "kernelspec": {
   "display_name": "Python 3",
   "language": "python",
   "name": "python3"
  },
  "language_info": {
   "codemirror_mode": {
    "name": "ipython",
    "version": 3
   },
   "file_extension": ".py",
   "mimetype": "text/x-python",
   "name": "python",
   "nbconvert_exporter": "python",
   "pygments_lexer": "ipython3",
   "version": "3.8.5"
  }
 },
 "nbformat": 4,
 "nbformat_minor": 4
}
