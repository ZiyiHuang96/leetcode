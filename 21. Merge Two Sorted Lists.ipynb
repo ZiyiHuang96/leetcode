{
 "cells": [
  {
   "cell_type": "code",
   "execution_count": null,
   "metadata": {},
   "outputs": [],
   "source": [
    "class ListNode:\n",
    "    def __init__(self, val=0, next=None):\n",
    "        self.val = val\n",
    "        self.next = next\n",
    "def mergeTwoLists(l1: Optional[ListNode], l2: Optional[ListNode]) -> Optional[ListNode]:\n",
    "    dummy = temp = ListNode(0)\n",
    "    while l1 != None and l2 != None:\n",
    "        if l1.val < l2.val:\n",
    "            dummy.next = l1\n",
    "            l1 = l1.next\n",
    "        else:\n",
    "            dummy.next = l2\n",
    "            l2 = l2.next\n",
    "        dummy = dummy.next\n",
    "    dummy.next = l1 or l2\n",
    "    return temp.next"
   ]
  }
 ],
 "metadata": {
  "kernelspec": {
   "display_name": "Python 3",
   "language": "python",
   "name": "python3"
  },
  "language_info": {
   "codemirror_mode": {
    "name": "ipython",
    "version": 3
   },
   "file_extension": ".py",
   "mimetype": "text/x-python",
   "name": "python",
   "nbconvert_exporter": "python",
   "pygments_lexer": "ipython3",
   "version": "3.8.5"
  }
 },
 "nbformat": 4,
 "nbformat_minor": 4
}
