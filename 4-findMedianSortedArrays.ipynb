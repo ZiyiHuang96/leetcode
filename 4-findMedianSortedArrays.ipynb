{
 "cells": [
  {
   "cell_type": "code",
   "execution_count": 26,
   "metadata": {},
   "outputs": [],
   "source": [
    "def findMedianSortedArrays(nums1, nums2):\n",
    "    l = len(nums1) + len(nums2)\n",
    "    if l%2 == 1:\n",
    "        return kth(nums1, nums2, l//2)\n",
    "    else:\n",
    "        return (kth(nums1, nums2, l//2) + kth(nums1, nums2, l//2 - 1)) / 2\n",
    "def kth(A, B, k):\n",
    "    if not A:\n",
    "        return B[k]\n",
    "    if not B:\n",
    "        return A[k]\n",
    "    ia, ib = len(A)//2, len(B)//2\n",
    "    ma, mb = A[ia], B[ib]\n",
    "    if ia + ib < k:\n",
    "        if ma > mb:\n",
    "            return kth(A, B[ib + 1:], k - ib - 1)\n",
    "        else:\n",
    "            return kth(A[ia + 1:], B, k - ia - 1)\n",
    "    else:\n",
    "        if ma > mb:\n",
    "            return kth(A[:ia], B, k)\n",
    "        else:\n",
    "            return kth(A, B[:ib], k)"
   ]
  },
  {
   "cell_type": "code",
   "execution_count": 27,
   "metadata": {},
   "outputs": [
    {
     "data": {
      "text/plain": [
       "7.5"
      ]
     },
     "execution_count": 27,
     "metadata": {},
     "output_type": "execute_result"
    }
   ],
   "source": [
    "nums1 = [1,2,3,4,5,6]\n",
    "nums2 = [7,8,9,10,11,12,13,14]\n",
    "findMedianSortedArrays(nums1, nums2)"
   ]
  },
  {
   "cell_type": "code",
   "execution_count": null,
   "metadata": {},
   "outputs": [],
   "source": [
    "# ia, ib = len(a) / 2 , len(b) / 2\n",
    "# a[ia] = ma, b[ib] = mb\n",
    "# supposed all the elements that are at left of ma are la, right of ma are ra , same for lb, rb\n",
    "# if ia + ib < k: means the k-th element still exist in some larger part of the array\n",
    "# if ma < mb => la < ma < mb: solution can't exist in la\n",
    "# if ma > mb => lb < mb < ma: solution can't exist in lb\n",
    "# since we are deleted some smaller part, original we are seeking for the k-th, now we are seeking for the k - (len(smaller part)) th in the remaining two array\n",
    "# if ia + ib > k: means the k-th element still exist in some smaller part of the array\n",
    "# if ma < mb => ma < mb < rb: solution can't exist in rb\n",
    "# if ma > mb => mb < ma < ra: solution can't exist in la\n",
    "# since we are deleted some larger part, we are still finding the k-th element in the array"
   ]
  }
 ],
 "metadata": {
  "kernelspec": {
   "display_name": "Python 3",
   "language": "python",
   "name": "python3"
  },
  "language_info": {
   "codemirror_mode": {
    "name": "ipython",
    "version": 3
   },
   "file_extension": ".py",
   "mimetype": "text/x-python",
   "name": "python",
   "nbconvert_exporter": "python",
   "pygments_lexer": "ipython3",
   "version": "3.8.5"
  }
 },
 "nbformat": 4,
 "nbformat_minor": 4
}
